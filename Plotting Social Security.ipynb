{
 "cells": [
  {
   "cell_type": "code",
   "execution_count": 1,
   "metadata": {},
   "outputs": [],
   "source": [
    "import pandas as pd\n",
    "import matplotlib.pyplot as plt\n",
    "import numpy as np\n",
    "import datetime\n",
    "%matplotlib inline"
   ]
  },
  {
   "cell_type": "code",
   "execution_count": 2,
   "metadata": {},
   "outputs": [],
   "source": [
    "years = range(1,40)"
   ]
  },
  {
   "cell_type": "code",
   "execution_count": 3,
   "metadata": {},
   "outputs": [],
   "source": [
    "def create_temp_dict(passed_year_num, passed_age, passed_early_ret_annual, passed_later_annual, passed_early_total, passed_later_total):\n",
    "    temp_dict = {}\n",
    "    temp_dict['year_num'] = passed_year_num\n",
    "    temp_dict['age'] = passed_age\n",
    "    temp_dict['early_ret_annual'] = passed_early_ret_annual\n",
    "    temp_dict['later_annual'] = passed_later_annual\n",
    "    temp_dict['early_total'] = passed_early_total\n",
    "    temp_dict['later_total'] = passed_later_total\n",
    "    \n",
    "    return temp_dict"
   ]
  },
  {
   "cell_type": "code",
   "execution_count": 4,
   "metadata": {},
   "outputs": [
    {
     "data": {
      "text/plain": [
       "{'year_num': 1,\n",
       " 'age': 65,\n",
       " 'early_ret_annual': 3,\n",
       " 'later_annual': 3,\n",
       " 'early_total': 3,\n",
       " 'later_total': 3}"
      ]
     },
     "execution_count": 4,
     "metadata": {},
     "output_type": "execute_result"
    }
   ],
   "source": [
    "create_temp_dict(1, 65,3,3,3,3)"
   ]
  },
  {
   "cell_type": "code",
   "execution_count": 5,
   "metadata": {},
   "outputs": [],
   "source": [
    "total_dict = {}\n",
    "early_total = 0\n",
    "later_total = 0\n",
    "for x in range(40):\n",
    "    age = 62 + x\n",
    "    year_num = x\n",
    "    early_ret_annual = 27252\n",
    "    if age < 67:\n",
    "        later_ret_annual = 0\n",
    "    else:\n",
    "        later_ret_annual = 40368\n",
    "    early_total = early_total + early_ret_annual\n",
    "    later_total = later_total + later_ret_annual\n",
    "    total_dict[x] = create_temp_dict(x, age, early_ret_annual, later_ret_annual, early_total, later_total)"
   ]
  },
  {
   "cell_type": "code",
   "execution_count": 6,
   "metadata": {},
   "outputs": [
    {
     "data": {
      "text/plain": [
       "{'year_num': 0,\n",
       " 'age': 62,\n",
       " 'early_ret_annual': 27252,\n",
       " 'later_annual': 0,\n",
       " 'early_total': 27252,\n",
       " 'later_total': 0}"
      ]
     },
     "execution_count": 6,
     "metadata": {},
     "output_type": "execute_result"
    }
   ],
   "source": [
    "total_dict[0]"
   ]
  },
  {
   "cell_type": "code",
   "execution_count": null,
   "metadata": {},
   "outputs": [],
   "source": []
  }
 ],
 "metadata": {
  "kernelspec": {
   "display_name": "Python 3",
   "language": "python",
   "name": "python3"
  },
  "language_info": {
   "codemirror_mode": {
    "name": "ipython",
    "version": 3
   },
   "file_extension": ".py",
   "mimetype": "text/x-python",
   "name": "python",
   "nbconvert_exporter": "python",
   "pygments_lexer": "ipython3",
   "version": "3.8.10"
  }
 },
 "nbformat": 4,
 "nbformat_minor": 4
}
